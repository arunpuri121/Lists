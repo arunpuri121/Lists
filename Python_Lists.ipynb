{
 "cells": [
  {
   "cell_type": "code",
   "execution_count": 4,
   "id": "ade2936c",
   "metadata": {},
   "outputs": [
    {
     "name": "stdout",
     "output_type": "stream",
     "text": [
      "[1, 2, 3, 'R', 3.4, 5.6, 'Python']\n",
      "['Arun', 'Piyush', 'Pooja', 'Sheela']\n",
      "<class 'list'>\n",
      "<class 'list'>\n"
     ]
    }
   ],
   "source": [
    "list1=[1,2,3,\"R\",3.4,5.6,\"Python\"]\n",
    "list2=[\"Arun\",\"Piyush\",\"Pooja\",\"Sheela\"]\n",
    "print(list1)\n",
    "print(list2)\n",
    "print(type(list1))\n",
    "print(type(list2))"
   ]
  },
  {
   "cell_type": "markdown",
   "id": "43b08f79",
   "metadata": {},
   "source": [
    "### A list is an Haterogeneous data type which mean it can accept different data types"
   ]
  },
  {
   "cell_type": "code",
   "execution_count": 5,
   "id": "ebbb09ec",
   "metadata": {},
   "outputs": [
    {
     "data": {
      "text/plain": [
       "False"
      ]
     },
     "execution_count": 5,
     "metadata": {},
     "output_type": "execute_result"
    }
   ],
   "source": [
    "list1==list2"
   ]
  },
  {
   "cell_type": "code",
   "execution_count": 6,
   "id": "0e7f9f55",
   "metadata": {},
   "outputs": [
    {
     "data": {
      "text/plain": [
       "1"
      ]
     },
     "execution_count": 6,
     "metadata": {},
     "output_type": "execute_result"
    }
   ],
   "source": [
    "list1[0]"
   ]
  },
  {
   "cell_type": "code",
   "execution_count": 7,
   "id": "25c9fe3c",
   "metadata": {},
   "outputs": [
    {
     "data": {
      "text/plain": [
       "[2, 3, 'R', 3.4]"
      ]
     },
     "execution_count": 7,
     "metadata": {},
     "output_type": "execute_result"
    }
   ],
   "source": [
    "list1[1:5]"
   ]
  },
  {
   "cell_type": "code",
   "execution_count": 8,
   "id": "53bef1d9",
   "metadata": {},
   "outputs": [
    {
     "data": {
      "text/plain": [
       "['Piyush', 'Pooja']"
      ]
     },
     "execution_count": 8,
     "metadata": {},
     "output_type": "execute_result"
    }
   ],
   "source": [
    "list2[1:3]"
   ]
  },
  {
   "cell_type": "markdown",
   "id": "231f8f12",
   "metadata": {},
   "source": [
    "### We can retrieve elements using index\n",
    "### We have to use square brackets for lists"
   ]
  },
  {
   "cell_type": "code",
   "execution_count": 9,
   "id": "f4af1d57",
   "metadata": {},
   "outputs": [
    {
     "data": {
      "text/plain": [
       "['Arun', 'Piyush', 'Pooja', 'rishabh']"
      ]
     },
     "execution_count": 9,
     "metadata": {},
     "output_type": "execute_result"
    }
   ],
   "source": [
    "list2[-1]=\"rishabh\"\n",
    "list2"
   ]
  },
  {
   "cell_type": "code",
   "execution_count": 10,
   "id": "a2b2c8d0",
   "metadata": {},
   "outputs": [
    {
     "data": {
      "text/plain": [
       "[1, 2, 3, 'R', 3.4, 5.6, 'Python']"
      ]
     },
     "execution_count": 10,
     "metadata": {},
     "output_type": "execute_result"
    }
   ],
   "source": [
    "list1[:] # when we put just collens it will print all the list elements"
   ]
  },
  {
   "cell_type": "code",
   "execution_count": 11,
   "id": "1c23ad55",
   "metadata": {},
   "outputs": [
    {
     "data": {
      "text/plain": [
       "[1, 3, 3.4, 'Python']"
      ]
     },
     "execution_count": 11,
     "metadata": {},
     "output_type": "execute_result"
    }
   ],
   "source": [
    "list1[0:8:2] # [start index : end index : print the next number like in this case it is printing the second number]"
   ]
  },
  {
   "cell_type": "code",
   "execution_count": 13,
   "id": "fa1747bb",
   "metadata": {},
   "outputs": [
    {
     "data": {
      "text/plain": [
       "[1, 20, 25, 'R', 3.4, 5.6, 'Python']"
      ]
     },
     "execution_count": 13,
     "metadata": {},
     "output_type": "execute_result"
    }
   ],
   "source": [
    "list1[1:3]=[20,25]\n",
    "list1"
   ]
  },
  {
   "cell_type": "code",
   "execution_count": 14,
   "id": "0caa41a8",
   "metadata": {},
   "outputs": [
    {
     "data": {
      "text/plain": [
       "[1, 10, 20, 30, 40, 'R', 3.4, 5.6, 'Python']"
      ]
     },
     "execution_count": 14,
     "metadata": {},
     "output_type": "execute_result"
    }
   ],
   "source": [
    "list1[1:3]=[10,20,30,40]\n",
    "list1"
   ]
  },
  {
   "cell_type": "markdown",
   "id": "6c89acd9",
   "metadata": {},
   "source": [
    "### list is mutable which means it can be changed after creation"
   ]
  },
  {
   "cell_type": "code",
   "execution_count": 15,
   "id": "8140c228",
   "metadata": {},
   "outputs": [
    {
     "data": {
      "text/plain": [
       "[1,\n",
       " 10,\n",
       " 20,\n",
       " 30,\n",
       " 40,\n",
       " 'R',\n",
       " 3.4,\n",
       " 5.6,\n",
       " 'Python',\n",
       " 1,\n",
       " 10,\n",
       " 20,\n",
       " 30,\n",
       " 40,\n",
       " 'R',\n",
       " 3.4,\n",
       " 5.6,\n",
       " 'Python']"
      ]
     },
     "execution_count": 15,
     "metadata": {},
     "output_type": "execute_result"
    }
   ],
   "source": [
    "list3 = list1*2\n",
    "list3"
   ]
  },
  {
   "cell_type": "code",
   "execution_count": 16,
   "id": "fbe674bc",
   "metadata": {},
   "outputs": [
    {
     "data": {
      "text/plain": [
       "[1,\n",
       " 10,\n",
       " 20,\n",
       " 30,\n",
       " 40,\n",
       " 'R',\n",
       " 3.4,\n",
       " 5.6,\n",
       " 'Python',\n",
       " 'Arun',\n",
       " 'Piyush',\n",
       " 'Pooja',\n",
       " 'rishabh']"
      ]
     },
     "execution_count": 16,
     "metadata": {},
     "output_type": "execute_result"
    }
   ],
   "source": [
    "list4 = list1+list2\n",
    "list4"
   ]
  },
  {
   "cell_type": "code",
   "execution_count": 17,
   "id": "b45f3ada",
   "metadata": {},
   "outputs": [
    {
     "data": {
      "text/plain": [
       "13"
      ]
     },
     "execution_count": 17,
     "metadata": {},
     "output_type": "execute_result"
    }
   ],
   "source": [
    "len(list4)"
   ]
  },
  {
   "cell_type": "code",
   "execution_count": 18,
   "id": "242748e2",
   "metadata": {},
   "outputs": [
    {
     "name": "stdout",
     "output_type": "stream",
     "text": [
      "11\n",
      "12\n",
      "13\n",
      "14\n",
      "15\n"
     ]
    }
   ],
   "source": [
    "list1=[11,12,13,14,15]\n",
    "for i in list1:\n",
    "    print(i)"
   ]
  },
  {
   "cell_type": "code",
   "execution_count": 20,
   "id": "020a0fc5",
   "metadata": {},
   "outputs": [
    {
     "name": "stdout",
     "output_type": "stream",
     "text": [
      "Arun\n",
      "Piyush\n",
      "Pooja\n",
      "rishabh\n"
     ]
    }
   ],
   "source": [
    "for i in list2:\n",
    "    print(i)"
   ]
  },
  {
   "cell_type": "code",
   "execution_count": 21,
   "id": "0976849f",
   "metadata": {},
   "outputs": [
    {
     "data": {
      "text/plain": [
       "True"
      ]
     },
     "execution_count": 21,
     "metadata": {},
     "output_type": "execute_result"
    }
   ],
   "source": [
    "15 in list1"
   ]
  },
  {
   "cell_type": "code",
   "execution_count": 24,
   "id": "e15d7aee",
   "metadata": {},
   "outputs": [
    {
     "data": {
      "text/plain": [
       "False"
      ]
     },
     "execution_count": 24,
     "metadata": {},
     "output_type": "execute_result"
    }
   ],
   "source": [
    "17 in list1"
   ]
  },
  {
   "cell_type": "code",
   "execution_count": 25,
   "id": "10aebc94",
   "metadata": {},
   "outputs": [
    {
     "data": {
      "text/plain": [
       "5"
      ]
     },
     "execution_count": 25,
     "metadata": {},
     "output_type": "execute_result"
    }
   ],
   "source": [
    "len(list1)"
   ]
  },
  {
   "cell_type": "code",
   "execution_count": 26,
   "id": "50a3296c",
   "metadata": {},
   "outputs": [
    {
     "data": {
      "text/plain": [
       "False"
      ]
     },
     "execution_count": 26,
     "metadata": {},
     "output_type": "execute_result"
    }
   ],
   "source": [
    "max in list1"
   ]
  },
  {
   "cell_type": "code",
   "execution_count": 27,
   "id": "469682c5",
   "metadata": {},
   "outputs": [
    {
     "data": {
      "text/plain": [
       "15"
      ]
     },
     "execution_count": 27,
     "metadata": {},
     "output_type": "execute_result"
    }
   ],
   "source": [
    "max(list1)"
   ]
  },
  {
   "cell_type": "code",
   "execution_count": 28,
   "id": "77dc82b1",
   "metadata": {},
   "outputs": [
    {
     "data": {
      "text/plain": [
       "'Arun'"
      ]
     },
     "execution_count": 28,
     "metadata": {},
     "output_type": "execute_result"
    }
   ],
   "source": [
    "min(list2)"
   ]
  },
  {
   "cell_type": "code",
   "execution_count": 29,
   "id": "afbd6d61",
   "metadata": {},
   "outputs": [
    {
     "data": {
      "text/plain": [
       "11"
      ]
     },
     "execution_count": 29,
     "metadata": {},
     "output_type": "execute_result"
    }
   ],
   "source": [
    "min(list1)"
   ]
  },
  {
   "cell_type": "code",
   "execution_count": null,
   "id": "fea650fb",
   "metadata": {},
   "outputs": [],
   "source": []
  }
 ],
 "metadata": {
  "kernelspec": {
   "display_name": "Python 3 (ipykernel)",
   "language": "python",
   "name": "python3"
  },
  "language_info": {
   "codemirror_mode": {
    "name": "ipython",
    "version": 3
   },
   "file_extension": ".py",
   "mimetype": "text/x-python",
   "name": "python",
   "nbconvert_exporter": "python",
   "pygments_lexer": "ipython3",
   "version": "3.11.5"
  }
 },
 "nbformat": 4,
 "nbformat_minor": 5
}
